{
 "nbformat": 4,
 "nbformat_minor": 0,
 "metadata": {
  "colab": {
   "name": "4_Reddit_Topic_Modelling.ipynb",
   "provenance": []
  },
  "kernelspec": {
   "name": "python3",
   "display_name": "Python 3"
  },
  "pycharm": {
   "stem_cell": {
    "cell_type": "raw",
    "source": [],
    "metadata": {
     "collapsed": false
    }
   }
  }
 },
 "cells": [
  {
   "cell_type": "markdown",
   "source": [
    "# 1. Import Libraries"
   ],
   "metadata": {
    "collapsed": false
   }
  },
  {
   "cell_type": "code",
   "metadata": {
    "id": "C1Mb6VuLzrM1",
    "colab_type": "code",
    "outputId": "205fa00a-e47b-46b4-86d7-953e413ecf27",
    "colab": {
     "base_uri": "https://localhost:8080/",
     "height": 54
    }
   },
   "source": [
    "import pandas as pd\n",
    "import numpy as np\n",
    "import os\n",
    "\n",
    "#LDA\n",
    "from gensim.models import LdaModel\n",
    "from gensim.corpora.dictionary import Dictionary\n",
    "\n",
    "#Visualizing topics\n",
    "import pyLDAvis.gensim\n",
    "\n",
    "#tokenizing\n",
    "import nltk\n",
    "nltk.download('punkt')\n",
    "from nltk.tokenize import word_tokenize"
   ],
   "execution_count": 0,
   "outputs": [
    {
     "output_type": "stream",
     "text": [
      "[nltk_data] Downloading package punkt to /root/nltk_data...\n",
      "[nltk_data]   Unzipping tokenizers/punkt.zip.\n"
     ],
     "name": "stdout"
    }
   ]
  },
  {
   "cell_type": "code",
   "metadata": {
    "id": "4nllPkPp0k-I",
    "colab_type": "code",
    "outputId": "8f8d0750-3062-4ce0-ed06-889eb0120611",
    "colab": {
     "base_uri": "https://localhost:8080/",
     "height": 251
    }
   },
   "source": [
    "reddit_corpus = pd.read_csv(os.path.join(\"data\", \"reddit_corpus_cleaned.csv\"))\n",
    "reddit_corpus.head(2)"
   ],
   "execution_count": 0,
   "outputs": [
    {
     "output_type": "execute_result",
     "data": {
      "text/html": [
       "<div>\n",
       "<style scoped>\n",
       "    .dataframe tbody tr th:only-of-type {\n",
       "        vertical-align: middle;\n",
       "    }\n",
       "\n",
       "    .dataframe tbody tr th {\n",
       "        vertical-align: top;\n",
       "    }\n",
       "\n",
       "    .dataframe thead th {\n",
       "        text-align: right;\n",
       "    }\n",
       "</style>\n",
       "<table border=\"1\" class=\"dataframe\">\n",
       "  <thead>\n",
       "    <tr style=\"text-align: right;\">\n",
       "      <th></th>\n",
       "      <th>title</th>\n",
       "      <th>score</th>\n",
       "      <th>comms_num</th>\n",
       "      <th>time</th>\n",
       "      <th>body</th>\n",
       "      <th>comms</th>\n",
       "      <th>en_titles</th>\n",
       "      <th>en_bodies</th>\n",
       "      <th>posts</th>\n",
       "      <th>word_len_posts</th>\n",
       "      <th>word_len_comms</th>\n",
       "      <th>word_len_en_titles</th>\n",
       "      <th>word_len_en_bodies</th>\n",
       "      <th>word_len_ro_titles</th>\n",
       "      <th>word_len_ro_bodies</th>\n",
       "      <th>posts_prep</th>\n",
       "      <th>posts_prep_lim</th>\n",
       "      <th>word_len_posts_lim</th>\n",
       "    </tr>\n",
       "  </thead>\n",
       "  <tbody>\n",
       "    <tr>\n",
       "      <th>0</th>\n",
       "      <td>protocol de tratament coronavirus RO</td>\n",
       "      <td>0</td>\n",
       "      <td>5</td>\n",
       "      <td>2020-03-17 05:20:49</td>\n",
       "      <td>NaN</td>\n",
       "      <td>Sa vezi cum se golesc farmaciile de preparatel...</td>\n",
       "      <td>the protocol for the treatment of a coronaviru...</td>\n",
       "      <td>NaN</td>\n",
       "      <td>the protocol for the treatment of a coronaviru...</td>\n",
       "      <td>9</td>\n",
       "      <td>109</td>\n",
       "      <td>9</td>\n",
       "      <td>0</td>\n",
       "      <td>5</td>\n",
       "      <td>0</td>\n",
       "      <td>protocol treatment coronavirus ro</td>\n",
       "      <td>protocol treatment coronavirus ro</td>\n",
       "      <td>4</td>\n",
       "    </tr>\n",
       "    <tr>\n",
       "      <th>1</th>\n",
       "      <td>Ce soluții credeți ca ar trebui implementate î...</td>\n",
       "      <td>0</td>\n",
       "      <td>1</td>\n",
       "      <td>2020-03-17 08:34:17</td>\n",
       "      <td>NaN</td>\n",
       "      <td>Nu se ocupa nimeni cu asa ceva glovo asta de c...</td>\n",
       "      <td>What do you think it would have to be implemen...</td>\n",
       "      <td>NaN</td>\n",
       "      <td>What do you think it would have to be implemen...</td>\n",
       "      <td>21</td>\n",
       "      <td>43</td>\n",
       "      <td>21</td>\n",
       "      <td>0</td>\n",
       "      <td>15</td>\n",
       "      <td>0</td>\n",
       "      <td>think would implement come period fight corona...</td>\n",
       "      <td>think would implement come period fight corona...</td>\n",
       "      <td>7</td>\n",
       "    </tr>\n",
       "  </tbody>\n",
       "</table>\n",
       "</div>"
      ],
      "text/plain": [
       "                                               title  ...  word_len_posts_lim\n",
       "0               protocol de tratament coronavirus RO  ...                   4\n",
       "1  Ce soluții credeți ca ar trebui implementate î...  ...                   7\n",
       "\n",
       "[2 rows x 18 columns]"
      ]
     },
     "metadata": {
      "tags": []
     },
     "execution_count": 8
    }
   ]
  },
  {
   "cell_type": "code",
   "metadata": {
    "id": "ybKsyZFdzvWy",
    "colab_type": "code",
    "colab": {}
   },
   "source": [
    "reddit_corpus['posts_prep_lim'] = reddit_corpus['posts_prep_lim'].astype(str)\n",
    "reddit_corpus['posts_prep_lim_tok'] = reddit_corpus['posts_prep_lim'].apply(word_tokenize)  "
   ],
   "execution_count": 0,
   "outputs": []
  },
  {
   "cell_type": "markdown",
   "metadata": {
    "id": "YEAEwjbv04Uk",
    "colab_type": "text"
   },
   "source": [
    "# 2. Apply LDA to corpus(Latent Dirichlet Allocation)"
   ]
  },
  {
   "cell_type": "code",
   "metadata": {
    "id": "QO5gLEY205Gi",
    "colab_type": "code",
    "outputId": "130ef48e-8244-4fc5-cf5b-a6cbb69e1a21",
    "colab": {
     "base_uri": "https://localhost:8080/",
     "height": 36
    }
   },
   "source": [
    "dictionary_posts = Dictionary(reddit_corpus['posts_prep_lim_tok'].tolist())\n",
    "type(dictionary_posts)"
   ],
   "execution_count": 0,
   "outputs": [
    {
     "output_type": "execute_result",
     "data": {
      "text/plain": [
       "gensim.corpora.dictionary.Dictionary"
      ]
     },
     "metadata": {
      "tags": []
     },
     "execution_count": 11
    }
   ]
  },
  {
   "cell_type": "code",
   "metadata": {
    "id": "SLroO1tUH__G",
    "colab_type": "code",
    "colab": {}
   },
   "source": [
    "corpus = reddit_corpus['posts_prep_lim_tok'].to_list()\n",
    "final_corpus = [dictionary_posts.doc2bow(text) for text in corpus]"
   ],
   "execution_count": 0,
   "outputs": []
  },
  {
   "cell_type": "code",
   "metadata": {
    "id": "PE74Jwjv5SoK",
    "colab_type": "code",
    "outputId": "3e8fe3d9-c8d4-407b-cba6-1806149732b0",
    "colab": {
     "base_uri": "https://localhost:8080/",
     "height": 36
    }
   },
   "source": [
    "final_corpus[0] # let's check the first post "
   ],
   "execution_count": 0,
   "outputs": [
    {
     "output_type": "execute_result",
     "data": {
      "text/plain": [
       "[(0, 1), (1, 1), (2, 1), (3, 1)]"
      ]
     },
     "metadata": {
      "tags": []
     },
     "execution_count": 13
    }
   ]
  },
  {
   "cell_type": "code",
   "metadata": {
    "id": "LKzBIMzZ5Sqe",
    "colab_type": "code",
    "colab": {}
   },
   "source": [
    "# No more deprecation warnings\n",
    "import warnings\n",
    "warnings.filterwarnings(\"ignore\", category=DeprecationWarning) "
   ],
   "execution_count": 0,
   "outputs": []
  },
  {
   "cell_type": "code",
   "metadata": {
    "id": "juO6Ah0Y5Stl",
    "colab_type": "code",
    "outputId": "ffbe0661-7e1b-4702-8a79-c6f5d1ea4c2f",
    "colab": {
     "base_uri": "https://localhost:8080/",
     "height": 54
    }
   },
   "source": [
    "#Implement LDA\n",
    "%%time\n",
    "ldamodel = LdaModel(final_corpus, \n",
    "                    num_topics = 2,\n",
    "                    id2word = dictionary_posts, \n",
    "                    passes  = 15, \n",
    "                    random_state = 5)"
   ],
   "execution_count": 0,
   "outputs": [
    {
     "output_type": "stream",
     "text": [
      "CPU times: user 33.1 s, sys: 0 ns, total: 33.1 s\n",
      "Wall time: 33.1 s\n"
     ],
     "name": "stdout"
    }
   ]
  },
  {
   "cell_type": "code",
   "metadata": {
    "id": "ErW_PgZ85SmK",
    "colab_type": "code",
    "colab": {}
   },
   "source": [
    "# Let's check the topics\n",
    "topics = ldamodel.print_topics(num_words=2)"
   ],
   "execution_count": 0,
   "outputs": []
  },
  {
   "cell_type": "code",
   "metadata": {
    "id": "zlSAVgy05SjN",
    "colab_type": "code",
    "outputId": "bdf6abe6-dcba-4b78-99fc-2e2884a81185",
    "colab": {
     "base_uri": "https://localhost:8080/",
     "height": 36
    }
   },
   "source": [
    "topics"
   ],
   "execution_count": 0,
   "outputs": [
    {
     "output_type": "execute_result",
     "data": {
      "text/plain": [
       "[(0, '0.029*\"coronavirus\" + 0.015*\"romania\"'), (1, '0.014*\"get\" + 0.013*\"go\"')]"
      ]
     },
     "metadata": {
      "tags": []
     },
     "execution_count": 17
    }
   ]
  },
  {
   "cell_type": "code",
   "metadata": {
    "id": "mg3ajzMv5gV2",
    "colab_type": "code",
    "outputId": "e5f49f23-d6f3-495d-f36c-9a5a40b2522a",
    "colab": {
     "base_uri": "https://localhost:8080/",
     "height": 91
    }
   },
   "source": [
    "topics_10 = ldamodel.print_topics(num_words=10)\n",
    "topics_10\n",
    "# Conclusion: we can make out the topics judging from these words"
   ],
   "execution_count": 0,
   "outputs": [
    {
     "output_type": "execute_result",
     "data": {
      "text/plain": [
       "[(0,\n",
       "  '0.029*\"coronavirus\" + 0.015*\"romania\" + 0.009*\"state\" + 0.007*\"emergency\" + 0.007*\"hospital\" + 0.007*\"usa\" + 0.006*\"news\" + 0.006*\"new\" + 0.006*\"order\" + 0.006*\"thank\"'),\n",
       " (1,\n",
       "  '0.014*\"get\" + 0.013*\"go\" + 0.010*\"people\" + 0.008*\"like\" + 0.008*\"know\" + 0.008*\"one\" + 0.008*\"time\" + 0.007*\"would\" + 0.007*\"make\" + 0.007*\"say\"')]"
      ]
     },
     "metadata": {
      "tags": []
     },
     "execution_count": 18
    }
   ]
  },
  {
   "cell_type": "code",
   "metadata": {
    "id": "9ORUOA9e5gY_",
    "colab_type": "code",
    "outputId": "7cf0802d-570e-4a76-c7d2-ce5a911363c3",
    "colab": {
     "base_uri": "https://localhost:8080/",
     "height": 54
    }
   },
   "source": [
    "# For a nicer representation\n",
    "for topic in topics:\n",
    "  print(topic)"
   ],
   "execution_count": 0,
   "outputs": [
    {
     "output_type": "stream",
     "text": [
      "(0, '0.029*\"coronavirus\" + 0.015*\"romania\"')\n",
      "(1, '0.014*\"get\" + 0.013*\"go\"')\n"
     ],
     "name": "stdout"
    }
   ]
  },
  {
   "cell_type": "markdown",
   "metadata": {
    "id": "zhDm7tw05pNw",
    "colab_type": "text"
   },
   "source": [
    "# 3. Visualization"
   ]
  },
  {
   "cell_type": "code",
   "metadata": {
    "id": "RJlRbmPo5gbd",
    "colab_type": "code",
    "outputId": "b07b82fb-1b0f-4f71-a7fb-7d04ad84ea92",
    "colab": {
     "base_uri": "https://localhost:8080/",
     "height": 861
    }
   },
   "source": [
    "lda_display = pyLDAvis.gensim.prepare(ldamodel,\n",
    "                                      final_corpus,\n",
    "                                      dictionary_posts,\n",
    "                                      sort_topics=False)\n",
    "pyLDAvis.display(lda_display)"
   ],
   "execution_count": 0,
   "outputs": [
    {
     "output_type": "execute_result",
     "data": {
      "text/html": [
       "\n",
       "<link rel=\"stylesheet\" type=\"text/css\" href=\"https://cdn.rawgit.com/bmabey/pyLDAvis/files/ldavis.v1.0.0.css\">\n",
       "\n",
       "\n",
       "<div id=\"ldavis_el1231405562475831449016483155\"></div>\n",
       "<script type=\"text/javascript\">\n",
       "\n",
       "var ldavis_el1231405562475831449016483155_data = {\"mdsDat\": {\"x\": [0.18540652096271515, -0.18540652096271515], \"y\": [0.0, 0.0], \"topics\": [1, 2], \"cluster\": [1, 1], \"Freq\": [34.703529357910156, 65.29647827148438]}, \"tinfo\": {\"Term\": [\"coronavirus\", \"romania\", \"hospital\", \"emergency\", \"news\", \"state\", \"usa\", \"one\", \"nan\", \"say\", \"year\", \"get\", \"see\", \"work\", \"think\", \"go\", \"make\", \"county\", \"come\", \"bucharest\", \"good\", \"test\", \"know\", \"order\", \"cluj\", \"official\", \"quarantine\", \"new\", \"en\", \"thank\", \"coronavirus\", \"nan\", \"hospital\", \"news\", \"county\", \"en\", \"dsu\", \"official\", \"military\", \"test\", \"patient\", \"minister\", \"president\", \"covid\", \"ministry\", \"suceava\", \"statistic\", \"outbreak\", \"release\", \"anti\", \"ro\", \"arcgis\", \"global\", \"establishment\", \"subreddituri\", \"cases\", \"jediknight\", \"parliament\", \"journalist\", \"wikipedia\", \"cluj\", \"church\", \"alert\", \"green\", \"poll\", \"model\", \"million\", \"emergency\", \"usa\", \"infect\", \"psd\", \"medical\", \"romania\", \"doctor\", \"health\", \"bucharest\", \"thread\", \"state\", \"facebook\", \"authority\", \"national\", \"order\", \"quarantine\", \"thank\", \"new\", \"government\", \"city\", \"case\", \"day\", \"romanian\", \"situation\", \"think\", \"see\", \"good\", \"say\", \"work\", \"way\", \"look\", \"help\", \"back\", \"even\", \"home\", \"thing\", \"lot\", \"house\", \"year\", \"well\", \"let\", \"much\", \"something\", \"come\", \"anyone\", \"little\", \"really\", \"tell\", \"need\", \"feel\", \"love\", \"fact\", \"anything\", \"try\", \"one\", \"make\", \"english\", \"able\", \"know\", \"school\", \"go\", \"get\", \"find\", \"like\", \"police\", \"people\", \"would\", \"use\", \"time\", \"take\", \"give\", \"want\", \"country\", \"day\"], \"Freq\": [1429.0, 965.0, 331.0, 362.0, 315.0, 559.0, 343.0, 732.0, 260.0, 607.0, 598.0, 1316.0, 559.0, 562.0, 556.0, 1209.0, 625.0, 213.0, 549.0, 300.0, 523.0, 205.0, 759.0, 419.0, 202.0, 195.0, 396.0, 451.0, 190.0, 407.0, 1429.2237548828125, 259.7146301269531, 330.6196594238281, 315.04168701171875, 212.63650512695312, 189.65188598632812, 154.07904052734375, 195.14959716796875, 173.26025390625, 205.25662231445312, 139.18743896484375, 137.128662109375, 134.75894165039062, 88.5217514038086, 118.23148345947266, 92.41548919677734, 85.92906951904297, 92.15494537353516, 92.84825134277344, 101.93265533447266, 80.31649780273438, 63.958984375, 98.5625991821289, 65.92791748046875, 61.19005584716797, 59.330909729003906, 57.35980224609375, 67.33435821533203, 60.05574417114258, 55.03679656982422, 199.99571228027344, 186.02249145507812, 135.8675994873047, 79.74220275878906, 82.48564910888672, 92.6220474243164, 161.71151733398438, 346.39154052734375, 323.025634765625, 103.47711944580078, 130.76751708984375, 106.23462677001953, 748.8214111328125, 190.6649932861328, 209.99781799316406, 257.8026428222656, 162.48333740234375, 433.3887939453125, 187.06954956054688, 142.7429656982422, 180.38938903808594, 303.0966796875, 289.0286560058594, 289.1965026855469, 310.41766357421875, 203.79696655273438, 219.4261932373047, 227.1334228515625, 217.1904754638672, 190.9869842529297, 163.26190185546875, 555.9624633789062, 559.1805419921875, 523.1495971679688, 606.3103637695312, 562.034423828125, 379.657470703125, 320.2622985839844, 332.26910400390625, 347.0027160644531, 368.4290466308594, 356.145263671875, 264.2565612792969, 285.39306640625, 330.54052734375, 596.7386474609375, 314.96826171875, 252.50204467773438, 247.51766967773438, 250.78424072265625, 547.8114624023438, 222.01394653320312, 202.9525909423828, 195.1867218017578, 217.3280792236328, 271.9156494140625, 174.04542541503906, 178.47039794921875, 182.9390106201172, 169.88682556152344, 204.90243530273438, 728.9580078125, 621.3643798828125, 265.4566345214844, 236.3550567626953, 742.381103515625, 239.7054901123047, 1153.139404296875, 1250.654296875, 394.1112365722656, 751.0031127929688, 356.51800537109375, 906.6748657226562, 653.7755126953125, 284.25408935546875, 701.9453735351562, 524.4043579101562, 388.0753479003906, 452.5732727050781, 392.4892272949219, 429.6148681640625], \"Total\": [1429.0, 965.0, 331.0, 362.0, 315.0, 559.0, 343.0, 732.0, 260.0, 607.0, 598.0, 1316.0, 559.0, 562.0, 556.0, 1209.0, 625.0, 213.0, 549.0, 300.0, 523.0, 205.0, 759.0, 419.0, 202.0, 195.0, 396.0, 451.0, 190.0, 407.0, 1429.8116455078125, 260.2071533203125, 331.41021728515625, 315.8786926269531, 213.22183227539062, 190.2274169921875, 154.5620574951172, 195.78610229492188, 173.8653564453125, 205.97984313964844, 139.77783203125, 137.75741577148438, 135.43963623046875, 89.01277160644531, 118.8892593383789, 92.94100189208984, 86.42877197265625, 92.69781494140625, 93.39814758300781, 102.62960815429688, 80.86612701416016, 64.44121551513672, 99.31185913085938, 66.44623565673828, 61.6723518371582, 59.819637298583984, 57.84203338623047, 67.90265655517578, 60.594364166259766, 55.53274917602539, 202.0380401611328, 187.98477172851562, 137.43040466308594, 80.5232162475586, 83.32271575927734, 93.7962875366211, 165.9393310546875, 362.5732727050781, 343.72802734375, 105.65442657470703, 135.7225799560547, 109.03274536132812, 965.3406982421875, 209.50819396972656, 235.29058837890625, 300.9932861328125, 178.005859375, 559.2471313476562, 215.82020568847656, 156.9892120361328, 210.66818237304688, 419.331298828125, 396.2806091308594, 407.4849548339844, 451.122314453125, 258.4862060546875, 315.1083984375, 346.29461669921875, 646.8053588867188, 494.48773193359375, 283.4656066894531, 556.55029296875, 559.8016357421875, 523.7830810546875, 607.1529541015625, 562.881591796875, 380.3125915527344, 320.849853515625, 332.9022521972656, 347.670166015625, 369.1522216796875, 356.8858947753906, 264.82745361328125, 286.0150146484375, 331.26739501953125, 598.0702514648438, 315.70062255859375, 253.09519958496094, 248.10411071777344, 251.38145446777344, 549.1404418945312, 222.57492065429688, 203.5078887939453, 195.72085571289062, 217.926025390625, 272.688232421875, 174.60336303710938, 179.043701171875, 183.53819274902344, 170.45004272460938, 205.58322143554688, 732.6886596679688, 625.8079223632812, 266.4482421875, 237.30784606933594, 759.8821411132812, 240.93002319335938, 1209.6837158203125, 1316.61279296875, 402.976806640625, 793.222900390625, 365.3839111328125, 1025.906494140625, 721.0482788085938, 288.6304626464844, 824.1886596679688, 619.6163330078125, 437.5038146972656, 577.8008422851562, 488.22894287109375, 646.8053588867188], \"Category\": [\"Default\", \"Default\", \"Default\", \"Default\", \"Default\", \"Default\", \"Default\", \"Default\", \"Default\", \"Default\", \"Default\", \"Default\", \"Default\", \"Default\", \"Default\", \"Default\", \"Default\", \"Default\", \"Default\", \"Default\", \"Default\", \"Default\", \"Default\", \"Default\", \"Default\", \"Default\", \"Default\", \"Default\", \"Default\", \"Default\", \"Topic1\", \"Topic1\", \"Topic1\", \"Topic1\", \"Topic1\", \"Topic1\", \"Topic1\", \"Topic1\", \"Topic1\", \"Topic1\", \"Topic1\", \"Topic1\", \"Topic1\", \"Topic1\", \"Topic1\", \"Topic1\", \"Topic1\", \"Topic1\", \"Topic1\", \"Topic1\", \"Topic1\", \"Topic1\", \"Topic1\", \"Topic1\", \"Topic1\", \"Topic1\", \"Topic1\", \"Topic1\", \"Topic1\", \"Topic1\", \"Topic1\", \"Topic1\", \"Topic1\", \"Topic1\", \"Topic1\", \"Topic1\", \"Topic1\", \"Topic1\", \"Topic1\", \"Topic1\", \"Topic1\", \"Topic1\", \"Topic1\", \"Topic1\", \"Topic1\", \"Topic1\", \"Topic1\", \"Topic1\", \"Topic1\", \"Topic1\", \"Topic1\", \"Topic1\", \"Topic1\", \"Topic1\", \"Topic1\", \"Topic1\", \"Topic1\", \"Topic1\", \"Topic1\", \"Topic1\", \"Topic1\", \"Topic2\", \"Topic2\", \"Topic2\", \"Topic2\", \"Topic2\", \"Topic2\", \"Topic2\", \"Topic2\", \"Topic2\", \"Topic2\", \"Topic2\", \"Topic2\", \"Topic2\", \"Topic2\", \"Topic2\", \"Topic2\", \"Topic2\", \"Topic2\", \"Topic2\", \"Topic2\", \"Topic2\", \"Topic2\", \"Topic2\", \"Topic2\", \"Topic2\", \"Topic2\", \"Topic2\", \"Topic2\", \"Topic2\", \"Topic2\", \"Topic2\", \"Topic2\", \"Topic2\", \"Topic2\", \"Topic2\", \"Topic2\", \"Topic2\", \"Topic2\", \"Topic2\", \"Topic2\", \"Topic2\", \"Topic2\", \"Topic2\", \"Topic2\", \"Topic2\", \"Topic2\", \"Topic2\", \"Topic2\", \"Topic2\", \"Topic2\"], \"logprob\": [30.0, 29.0, 28.0, 27.0, 26.0, 25.0, 24.0, 23.0, 22.0, 21.0, 20.0, 19.0, 18.0, 17.0, 16.0, 15.0, 14.0, 13.0, 12.0, 11.0, 10.0, 9.0, 8.0, 7.0, 6.0, 5.0, 4.0, 3.0, 2.0, 1.0, -3.529400110244751, -5.2347002029418945, -4.993299961090088, -5.041600227355957, -5.434700012207031, -5.549099922180176, -5.756800174713135, -5.520500183105469, -5.639500141143799, -5.46999979019165, -5.858500003814697, -5.8734002113342285, -5.8907999992370605, -6.310999870300293, -6.021599769592285, -6.26800012588501, -6.340799808502197, -6.2708001136779785, -6.263299942016602, -6.170000076293945, -6.408299922943115, -6.636099815368652, -6.20359992980957, -6.6057000160217285, -6.680300235748291, -6.71120023727417, -6.744900226593018, -6.58459997177124, -6.698999881744385, -6.786300182342529, -5.495999813079834, -5.568399906158447, -5.882599830627441, -6.415500164031982, -6.381700038909912, -6.2657999992370605, -5.708499908447266, -4.946700096130371, -5.016600131988525, -6.154900074005127, -5.920899868011475, -6.128600120544434, -4.17579984664917, -5.543799877166748, -5.447199821472168, -5.242099761962891, -5.703700065612793, -4.722700119018555, -5.56279993057251, -5.833199977874756, -5.5991997718811035, -5.0802001953125, -5.127799987792969, -5.127200126647949, -5.056399822235107, -5.477200031280518, -5.403299808502197, -5.368800163269043, -5.41349983215332, -5.542099952697754, -5.69890022277832, -5.1057000160217285, -5.099899768829346, -5.166500091552734, -5.019000053405762, -5.094799995422363, -5.487100124359131, -5.657199859619141, -5.6203999519348145, -5.577099800109863, -5.517099857330322, -5.55109977722168, -5.8495001792907715, -5.772500038146973, -5.625699996948242, -5.034900188446045, -5.673900127410889, -5.894999980926514, -5.914899826049805, -5.901800155639648, -5.120500087738037, -6.023600101470947, -6.113399982452393, -6.152400016784668, -6.045000076293945, -5.820899963378906, -6.267099857330322, -6.242000102996826, -6.217199802398682, -6.291299819946289, -6.103899955749512, -4.834799766540527, -4.994500160217285, -5.844900131225586, -5.961100101470947, -4.816500186920166, -5.947000026702881, -4.376100063323975, -4.295000076293945, -5.44980001449585, -4.804999828338623, -5.550000190734863, -4.616600036621094, -4.943600177764893, -5.776500225067139, -4.872499942779541, -5.164100170135498, -5.465199947357178, -5.311399936676025, -5.45389986038208, -5.363500118255615], \"loglift\": [30.0, 29.0, 28.0, 27.0, 26.0, 25.0, 24.0, 23.0, 22.0, 21.0, 20.0, 19.0, 18.0, 17.0, 16.0, 15.0, 14.0, 13.0, 12.0, 11.0, 10.0, 9.0, 8.0, 7.0, 6.0, 5.0, 4.0, 3.0, 2.0, 1.0, 1.0578999519348145, 1.056399941444397, 1.055899977684021, 1.0556999444961548, 1.0556000471115112, 1.055299997329712, 1.0551999807357788, 1.0550999641418457, 1.054800033569336, 1.054800033569336, 1.0541000366210938, 1.0537999868392944, 1.0533000230789185, 1.0528000593185425, 1.0528000593185425, 1.0527000427246094, 1.0525000095367432, 1.0525000095367432, 1.05239999294281, 1.0514999628067017, 1.0514999628067017, 1.0507999658584595, 1.0507999658584595, 1.0505000352859497, 1.0505000352859497, 1.0500999689102173, 1.0499999523162842, 1.0499000549316406, 1.049399971961975, 1.049399971961975, 1.048200011253357, 1.0477999448776245, 1.0469000339508057, 1.0485999584197998, 1.048200011253357, 1.045699954032898, 1.0325000286102295, 1.0126999616622925, 0.9962000250816345, 1.037500023841858, 1.0211000442504883, 1.0322999954223633, 0.8043000102043152, 0.9641000032424927, 0.944599986076355, 0.9034000039100647, 0.9671000242233276, 0.8033999800682068, 0.9154000282287598, 0.9631999731063843, 0.9031999707221985, 0.7336999773979187, 0.7426999807357788, 0.715399980545044, 0.684499979019165, 0.8205999732017517, 0.696399986743927, 0.6366000175476074, -0.03290000185370445, 0.10700000077486038, 0.506600022315979, 0.4251999855041504, 0.4250999987125397, 0.42500001192092896, 0.42480000853538513, 0.424699991941452, 0.4244999885559082, 0.4244000017642975, 0.4242999851703644, 0.4242999851703644, 0.4242999851703644, 0.42419999837875366, 0.42410001158714294, 0.42410001158714294, 0.42399999499320984, 0.42399999499320984, 0.4239000082015991, 0.4239000082015991, 0.4239000082015991, 0.4239000082015991, 0.423799991607666, 0.4237000048160553, 0.4235000014305115, 0.4235000014305115, 0.4235000014305115, 0.42340001463890076, 0.4230000078678131, 0.4230000078678131, 0.4230000078678131, 0.42289999127388, 0.42289999127388, 0.421099990606308, 0.41909998655319214, 0.42250001430511475, 0.4221999943256378, 0.40290001034736633, 0.421099990606308, 0.3783999979496002, 0.3747999966144562, 0.40400001406669617, 0.3714999854564667, 0.4016999900341034, 0.302700012922287, 0.32829999923706055, 0.41100001335144043, 0.26570001244544983, 0.25940001010894775, 0.30630001425743103, 0.18199999630451202, 0.20800000429153442, 0.017100000753998756]}, \"token.table\": {\"Topic\": [1, 2, 1, 2, 1, 2, 1, 2, 1, 2, 1, 1, 2, 1, 2, 1, 2, 1, 2, 1, 1, 2, 1, 2, 1, 2, 1, 2, 1, 2, 1, 2, 1, 2, 1, 1, 2, 1, 2, 1, 1, 2, 1, 2, 1, 2, 1, 2, 1, 2, 1, 2, 1, 2, 1, 2, 1, 2, 1, 2, 1, 2, 1, 2, 1, 2, 1, 2, 1, 2, 1, 2, 1, 2, 1, 2, 1, 2, 1, 2, 1, 2, 1, 2, 1, 1, 2, 1, 2, 1, 2, 1, 2, 1, 2, 1, 2, 1, 2, 1, 2, 1, 2, 1, 2, 1, 2, 1, 2, 1, 2, 1, 2, 1, 2, 1, 2, 1, 1, 2, 1, 2, 1, 2, 1, 2, 1, 2, 1, 2, 1, 2, 1, 2, 1, 2, 1, 2, 1, 2, 1, 2, 1, 2, 1, 2, 1, 2, 1, 2, 1, 2, 1, 2, 1, 2, 1, 2, 1, 2, 1, 2, 1, 2, 1, 2, 1, 2, 1, 2, 1, 2, 1, 1, 1, 2, 1, 2, 1, 2, 1, 2, 1, 2, 1, 2, 1, 2, 1, 2, 1, 2, 1, 2, 1, 2, 1, 2, 1, 2, 1, 2, 1, 2, 1, 1, 2, 1, 2, 1, 2], \"Freq\": [0.004213935695588589, 0.9944888353347778, 0.9895917773246765, 0.014552820473909378, 0.9938652515411377, 0.009743777103722095, 0.004492869134992361, 0.9974169731140137, 0.005866821855306625, 0.9973596930503845, 0.9931532144546509, 0.9108906388282776, 0.08917810022830963, 0.0028762894216924906, 0.9980723857879639, 0.8571619987487793, 0.1428603231906891, 0.655511200428009, 0.34363803267478943, 0.9862982034683228, 0.9894418716430664, 0.010639159940183163, 0.6949989199638367, 0.30465707182884216, 0.9899125695228577, 0.00989912636578083, 0.001821027835831046, 0.9979231953620911, 0.9994323253631592, 0.0006993928109295666, 0.19662906229496002, 0.8029019832611084, 0.9989596009254456, 0.004689951427280903, 0.9998565316200256, 0.3354950547218323, 0.6648058891296387, 0.9116588830947876, 0.09068857878446579, 0.9963635206222534, 0.9542898535728455, 0.044129010289907455, 0.99880450963974, 0.00525686563923955, 0.003753074211999774, 0.9945646524429321, 0.993284285068512, 0.015049761161208153, 0.0027089095674455166, 0.9968787431716919, 0.866461992263794, 0.1343711018562317, 0.005448457319289446, 0.9970676898956299, 0.005727266427129507, 0.996544361114502, 0.022333791479468346, 0.9777237772941589, 0.05012863501906395, 0.9501654505729675, 0.1119990199804306, 0.8868494033813477, 0.9968597888946533, 0.010069291107356548, 0.047119755297899246, 0.9531416893005371, 0.0019091872964054346, 0.9985049366950989, 0.7892103791236877, 0.21277731657028198, 0.9935023188591003, 0.012418778613209724, 0.8925133943557739, 0.10625159740447998, 0.003003884805366397, 0.9972897171974182, 0.002802015980705619, 0.9975177049636841, 0.9987621903419495, 0.0030174085404723883, 0.0030187093652784824, 0.9991928339004517, 0.974876344203949, 0.01892963796854019, 0.9854425191879272, 0.9901911020278931, 0.016503185033798218, 0.023687884211540222, 0.9764671921730042, 0.003951082471758127, 0.9996238350868225, 0.052948545664548874, 0.946770429611206, 0.0049138143658638, 0.9975043535232544, 0.00311672268435359, 0.9973512291908264, 0.0034963199868798256, 0.996451199054718, 0.005585228558629751, 0.9941706657409668, 0.0063917376101017, 0.992317259311676, 0.9721850156784058, 0.02751467004418373, 0.9950228333473206, 0.005751577205955982, 0.9762604236602783, 0.024105194956064224, 0.9945018291473389, 0.007259137462824583, 0.992520272731781, 0.00841118860989809, 0.9915104508399963, 0.010661402717232704, 0.004030566196888685, 0.9995803833007812, 0.9992039203643799, 0.854424238204956, 0.14240403473377228, 0.0036671916022896767, 0.9974761009216309, 0.6871750354766846, 0.3125538229942322, 0.9972182512283325, 0.003165772184729576, 0.9959849119186401, 0.005107614677399397, 0.005459344945847988, 0.9949656128883362, 0.7225790023803711, 0.2766309082508087, 0.9924721717834473, 0.010787740349769592, 0.9867066144943237, 0.014726964756846428, 0.9944352507591248, 0.0071542104706168175, 0.11599497497081757, 0.8840961456298828, 0.024631626904010773, 0.9770545363426208, 0.9841253757476807, 0.012001529335975647, 0.996753990650177, 0.007383362855762243, 0.9652041792869568, 0.03683985397219658, 0.7292811870574951, 0.27001067996025085, 0.005109317600727081, 0.9963169097900391, 0.9957370758056641, 0.010706850327551365, 0.9892893433570862, 0.012366116978228092, 0.775891900062561, 0.22479110956192017, 0.3862583041191101, 0.6147776246070862, 0.0016470314003527164, 0.9981010556221008, 0.004150582943111658, 0.9961398839950562, 0.0017863470129668713, 0.9985679984092712, 0.5750256776809692, 0.42333176732063293, 0.003978018183261156, 0.9984825849533081, 0.7742552161216736, 0.22530290484428406, 0.9950389862060547, 0.9890980124473572, 0.9898752570152283, 0.010759513825178146, 0.15332068502902985, 0.8456845879554749, 0.004588712938129902, 0.9957507252693176, 0.9952430129051208, 0.0048548439517617226, 0.7092286348342896, 0.2895812392234802, 0.003776043653488159, 0.996875524520874, 0.0017967828316614032, 0.999011218547821, 0.9100823998451233, 0.0898846834897995, 0.14802436530590057, 0.8517467379570007, 0.00486421026289463, 0.9971631169319153, 0.9396964311599731, 0.06109481304883957, 0.013858551159501076, 0.9839571118354797, 0.21633751690387726, 0.78400719165802, 0.002629416063427925, 0.9991780519485474, 0.0031675579957664013, 0.9977807402610779, 0.9904065728187561, 0.0017765725497156382, 0.9984337687492371, 0.09292026609182358, 0.9070127606391907, 0.0016720443964004517, 0.9982104897499084], \"Term\": [\"able\", \"able\", \"alert\", \"alert\", \"anti\", \"anti\", \"anyone\", \"anyone\", \"anything\", \"anything\", \"arcgis\", \"authority\", \"authority\", \"back\", \"back\", \"bucharest\", \"bucharest\", \"case\", \"case\", \"cases\", \"church\", \"church\", \"city\", \"city\", \"cluj\", \"cluj\", \"come\", \"come\", \"coronavirus\", \"coronavirus\", \"country\", \"country\", \"county\", \"county\", \"covid\", \"day\", \"day\", \"doctor\", \"doctor\", \"dsu\", \"emergency\", \"emergency\", \"en\", \"en\", \"english\", \"english\", \"establishment\", \"establishment\", \"even\", \"even\", \"facebook\", \"facebook\", \"fact\", \"fact\", \"feel\", \"feel\", \"find\", \"find\", \"get\", \"get\", \"give\", \"give\", \"global\", \"global\", \"go\", \"go\", \"good\", \"good\", \"government\", \"government\", \"green\", \"green\", \"health\", \"health\", \"help\", \"help\", \"home\", \"home\", \"hospital\", \"hospital\", \"house\", \"house\", \"infect\", \"infect\", \"jediknight\", \"journalist\", \"journalist\", \"know\", \"know\", \"let\", \"let\", \"like\", \"like\", \"little\", \"little\", \"look\", \"look\", \"lot\", \"lot\", \"love\", \"love\", \"make\", \"make\", \"medical\", \"medical\", \"military\", \"military\", \"million\", \"million\", \"minister\", \"minister\", \"ministry\", \"ministry\", \"model\", \"model\", \"much\", \"much\", \"nan\", \"national\", \"national\", \"need\", \"need\", \"new\", \"new\", \"news\", \"news\", \"official\", \"official\", \"one\", \"one\", \"order\", \"order\", \"outbreak\", \"outbreak\", \"parliament\", \"parliament\", \"patient\", \"patient\", \"people\", \"people\", \"police\", \"police\", \"poll\", \"poll\", \"president\", \"president\", \"psd\", \"psd\", \"quarantine\", \"quarantine\", \"really\", \"really\", \"release\", \"release\", \"ro\", \"ro\", \"romania\", \"romania\", \"romanian\", \"romanian\", \"say\", \"say\", \"school\", \"school\", \"see\", \"see\", \"situation\", \"situation\", \"something\", \"something\", \"state\", \"state\", \"statistic\", \"subreddituri\", \"suceava\", \"suceava\", \"take\", \"take\", \"tell\", \"tell\", \"test\", \"test\", \"thank\", \"thank\", \"thing\", \"thing\", \"think\", \"think\", \"thread\", \"thread\", \"time\", \"time\", \"try\", \"try\", \"usa\", \"usa\", \"use\", \"use\", \"want\", \"want\", \"way\", \"way\", \"well\", \"well\", \"wikipedia\", \"work\", \"work\", \"would\", \"would\", \"year\", \"year\"]}, \"R\": 30, \"lambda.step\": 0.01, \"plot.opts\": {\"xlab\": \"PC1\", \"ylab\": \"PC2\"}, \"topic.order\": [1, 2]};\n",
       "\n",
       "function LDAvis_load_lib(url, callback){\n",
       "  var s = document.createElement('script');\n",
       "  s.src = url;\n",
       "  s.async = true;\n",
       "  s.onreadystatechange = s.onload = callback;\n",
       "  s.onerror = function(){console.warn(\"failed to load library \" + url);};\n",
       "  document.getElementsByTagName(\"head\")[0].appendChild(s);\n",
       "}\n",
       "\n",
       "if(typeof(LDAvis) !== \"undefined\"){\n",
       "   // already loaded: just create the visualization\n",
       "   !function(LDAvis){\n",
       "       new LDAvis(\"#\" + \"ldavis_el1231405562475831449016483155\", ldavis_el1231405562475831449016483155_data);\n",
       "   }(LDAvis);\n",
       "}else if(typeof define === \"function\" && define.amd){\n",
       "   // require.js is available: use it to load d3/LDAvis\n",
       "   require.config({paths: {d3: \"https://cdnjs.cloudflare.com/ajax/libs/d3/3.5.5/d3.min\"}});\n",
       "   require([\"d3\"], function(d3){\n",
       "      window.d3 = d3;\n",
       "      LDAvis_load_lib(\"https://cdn.rawgit.com/bmabey/pyLDAvis/files/ldavis.v1.0.0.js\", function(){\n",
       "        new LDAvis(\"#\" + \"ldavis_el1231405562475831449016483155\", ldavis_el1231405562475831449016483155_data);\n",
       "      });\n",
       "    });\n",
       "}else{\n",
       "    // require.js not available: dynamically load d3 & LDAvis\n",
       "    LDAvis_load_lib(\"https://cdnjs.cloudflare.com/ajax/libs/d3/3.5.5/d3.min.js\", function(){\n",
       "         LDAvis_load_lib(\"https://cdn.rawgit.com/bmabey/pyLDAvis/files/ldavis.v1.0.0.js\", function(){\n",
       "                 new LDAvis(\"#\" + \"ldavis_el1231405562475831449016483155\", ldavis_el1231405562475831449016483155_data);\n",
       "            })\n",
       "         });\n",
       "}\n",
       "</script>"
      ],
      "text/plain": [
       "<IPython.core.display.HTML object>"
      ]
     },
     "metadata": {
      "tags": []
     },
     "execution_count": 20
    }
   ]
  },
  {
   "cell_type": "code",
   "metadata": {
    "id": "PjOORDUFIdZ4",
    "colab_type": "code",
    "colab": {}
   },
   "source": [
    ""
   ],
   "execution_count": 0,
   "outputs": []
  }
 ]
}